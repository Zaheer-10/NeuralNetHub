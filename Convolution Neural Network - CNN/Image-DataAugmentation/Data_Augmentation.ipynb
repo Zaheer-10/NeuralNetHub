{
  "nbformat": 4,
  "nbformat_minor": 0,
  "metadata": {
    "colab": {
      "provenance": [],
      "gpuType": "T4"
    },
    "kernelspec": {
      "name": "python3",
      "display_name": "Python 3"
    },
    "language_info": {
      "name": "python"
    },
    "accelerator": "GPU"
  },
  "cells": [
    {
      "cell_type": "markdown",
      "source": [
        "DATA AUGMENTATION"
      ],
      "metadata": {
        "id": "rYEqfImj8GbD"
      }
    },
    {
      "cell_type": "code",
      "source": [
        "\n",
        "# Import the necessary modules\n",
        "import tensorflow as tf\n",
        "from tensorflow.keras.preprocessing.image import ImageDataGenerator\n",
        "\n",
        "# Create an image data generator with data augmentation\n",
        "datagen = ImageDataGenerator(\n",
        "  rotation_range=40,\n",
        "  width_shift_range=0.2,\n",
        "  height_shift_range=0.2,\n",
        "  shear_range=0.2,\n",
        "  zoom_range=0.2,\n",
        "  horizontal_flip=True,\n",
        "  fill_mode=\"nearest\"\n",
        ")\n",
        "\n",
        "# Load an image from the dataset\n",
        "image = tf.keras.preprocessing.image.load_img(\"/content/cat.jpeg\")\n",
        "x = tf.keras.preprocessing.image.img_to_array(image)\n",
        "x = x.reshape((1,) + x.shape)\n",
        "\n",
        "# Generate and save augmented images\n",
        "i = 0\n",
        "for batch in datagen.flow(x, batch_size=1, save_to_dir=\"augmented\", save_prefix=\"cat\", save_format=\"jpeg\"):\n",
        "  i += 1\n",
        "  if i > 20:\n",
        "    break"
      ],
      "metadata": {
        "id": "5yywuGIhUYr5"
      },
      "execution_count": 1,
      "outputs": []
    },
    {
      "cell_type": "code",
      "source": [],
      "metadata": {
        "id": "pT01p3UHUYu4"
      },
      "execution_count": null,
      "outputs": []
    },
    {
      "cell_type": "code",
      "source": [],
      "metadata": {
        "id": "_cMnk782UYxn"
      },
      "execution_count": null,
      "outputs": []
    }
  ]
}